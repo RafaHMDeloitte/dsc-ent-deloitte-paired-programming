{
 "cells": [
  {
   "cell_type": "markdown",
   "id": "6d6b5aef",
   "metadata": {},
   "source": [
    "### Objectives\n",
    "- To create a mock pipeline based on the business model that students choose\n",
    "\n",
    "### Introduction\n",
    "\n",
    "Based on the previous readings, we will simulate how we can best determine\n",
    "- The state of the current system (legacy)\n",
    "- Whether we should migrate the system to cloud\n",
    "- (Optional) Designing the architecture of the cloud system\n"
   ]
  },
  {
   "cell_type": "markdown",
   "id": "1841ccbb",
   "metadata": {},
   "source": [
    "### Problem Statement\n",
    "Suppose you're a decision maker in the engineering team at an eCommerce company which currently generates millions of dollars in net revenue. You have a legacy system that sits on company's data centers in remote locations, away from the headquarter where your office is. The engineering team and the data analytics team have made the decision that they would like to build a search engine, recommendation engine, and few other engines that require heavy machine learning models to increase the revenue for the company. As a decision maker, you need to assess the current system, and the engineering requirement for the future fiscal years. So you decide to answer some questions and prepare answers for the next leadership meeting.\n",
    "\n",
    "\n",
    "Currently, the capability of the data center is limited based on the square footage of the location, as well as the hardware that can be stored in the square footage. The data center resource is not only shared in the engineering team, but also within the supply chain team, logistics, HR's IT platform, and also with some other internal operations, like marketing, leadership, and also analytics team. The data centers have maxed out in terms of the hardware that they can support, and may be in need of expanding and opening up another data center."
   ]
  },
  {
   "cell_type": "markdown",
   "id": "64bd88d1",
   "metadata": {},
   "source": [
    "#### Assumptions when solving this problem\n",
    "\n",
    "- The problem statement merely states the current business problem you're facing. The design of the hypothetical data center, like square footage, hardware capabilities, human resources are all something you can create! The limitation is one thing to keep in mind, that in any data center(s), you have ran out of spaces to add more hardware.\n",
    "- You can assume based on the revenue the company is making how much data is being generated per day.\n",
    "- Be creative! If you're using third party data, i.e. Adobe Target for audience targeting, how are we receiving that data? Will that data sit on our data center and will it take up the resources? These are free constraints that you can create, but be realistic."
   ]
  },
  {
   "cell_type": "markdown",
   "id": "eeff2ec1",
   "metadata": {},
   "source": [
    "1. What is the current cost of maintaining the remote data center location?"
   ]
  },
  {
   "cell_type": "code",
   "execution_count": 1,
   "id": "7d9f0006",
   "metadata": {},
   "outputs": [
    {
     "data": {
      "text/plain": [
       "'\\nThe cost of mantaining a remote data center typically includes the following factors:\\nReal estate costs: expenses for physical space, maintenance of the building, rent, property taxes, etc.\\nHardware costs: purchasing, upgrading, and maintaining servers, storage, networking equyipment and other infrastructure\\nEnergy consumption: power needesd ffor running servers and cooling systems\\nStaffing costs: personnel for operations, monitoring, and maintenance of the data center\\nSecurity costs: both physical (guards, surveillance) and digital (firewalls, anti-malware, etc)\\nBackup and disaster recovery costs: redundant systems to ensure data is not lost in case of failures\\n'"
      ]
     },
     "execution_count": 1,
     "metadata": {},
     "output_type": "execute_result"
    }
   ],
   "source": [
    "# your solution\n",
    "\"\"\"\n",
    "The cost of mantaining a remote data center typically includes the following factors:\n",
    "Real estate costs: expenses for physical space, maintenance of the building, rent, property taxes, etc.\n",
    "Hardware costs: purchasing, upgrading, and maintaining servers, storage, networking equyipment and other infrastructure\n",
    "Energy consumption: power needesd ffor running servers and cooling systems\n",
    "Staffing costs: personnel for operations, monitoring, and maintenance of the data center\n",
    "Security costs: both physical (guards, surveillance) and digital (firewalls, anti-malware, etc)\n",
    "Backup and disaster recovery costs: redundant systems to ensure data is not lost in case of failures\n",
    "\"\"\""
   ]
  },
  {
   "cell_type": "markdown",
   "id": "1803e76a",
   "metadata": {},
   "source": [
    "2. What are the new business requirements from your engineering team? "
   ]
  },
  {
   "cell_type": "code",
   "execution_count": 2,
   "id": "cd885a75",
   "metadata": {},
   "outputs": [
    {
     "data": {
      "text/plain": [
       "'\"\\nBased in that we need to run machine learning models and other processes that require heavy computational resources we need increased storage and processing capacity, scalability while the company\\ngrows, higher availability and redundancy minimizing downtime and ensuring daata availability across locations, faster oprocessing times optimizing current workflows for better performance in tasks\\nlike recommendations systems, data analytics, and search engines. Support for third-party integrations with some tools like Adobe Target for audience targeting, leveraging more rfeal-time data processing,\\nenhancing collaboration between bteams and reducing latency for data sets.\\n'"
      ]
     },
     "execution_count": 2,
     "metadata": {},
     "output_type": "execute_result"
    }
   ],
   "source": [
    "# your solution, but be creative! It doesn't have to limit to the requirement from the problem statement\n",
    "\"\"\"\"\n",
    "Based in that we need to run machine learning models and other processes that require heavy computational resources we need increased storage and processing capacity, scalability while the company\n",
    "grows, higher availability and redundancy minimizing downtime and ensuring daata availability across locations, faster oprocessing times optimizing current workflows for better performance in tasks\n",
    "like recommendations systems, data analytics, and search engines. Support for third-party integrations with some tools like Adobe Target for audience targeting, leveraging more rfeal-time data processing,\n",
    "enhancing collaboration between bteams and reducing latency for data sets.\n",
    "\"\"\""
   ]
  },
  {
   "cell_type": "markdown",
   "id": "4c9b740b",
   "metadata": {},
   "source": [
    "3. Based on the new business requirements, you decide that you need to start migrating (at least) your resources to the cloud system. What are some things that you may need to look into when considering migrating your legacy system to cloud?"
   ]
  },
  {
   "cell_type": "code",
   "execution_count": 4,
   "id": "c0e1eb0d",
   "metadata": {},
   "outputs": [
    {
     "data": {
      "text/plain": [
       "' \\n1.- Cloud provider selection\\n2.- Data migration strategy\\n3.- System compatibility\\n4.- Cost conmsiderations\\n5.- Security and compliance\\n6.- Downtime and continuity planning\\n7.- Backup and disaster recovery\\n8.- Training and support\\n'"
      ]
     },
     "execution_count": 4,
     "metadata": {},
     "output_type": "execute_result"
    }
   ],
   "source": [
    "# your solution\n",
    "\"\"\" \n",
    "1.- Cloud provider selection\n",
    "2.- Data migration strategy\n",
    "3.- System compatibility\n",
    "4.- Cost conmsiderations\n",
    "5.- Security and compliance\n",
    "6.- Downtime and continuity planning\n",
    "7.- Backup and disaster recovery\n",
    "8.- Training and support\n",
    "\"\"\""
   ]
  },
  {
   "cell_type": "markdown",
   "id": "59bec5af",
   "metadata": {},
   "source": [
    "4. In the end, you'll need to persuade leadership why you need to migrate a system to another place, i.e. cloud, when in the eyes of leadership, everything is working fine. Write out cons/pros based on the shared categories, like cost, human resources, etc."
   ]
  },
  {
   "cell_type": "code",
   "execution_count": 5,
   "id": "f99e810d",
   "metadata": {},
   "outputs": [
    {
     "data": {
      "text/plain": [
       "' \\n1.- COST\\n    Pros: reduced operational and maintenance costs and no need for large upfront hardware investments\\n    Cons: Initial migration and re-architecting expenses and ongoing subscription fees and potential for unexpected cost spikes\\n2.- HUMAN RESOURCES\\n    Pros: Less IT burden on maintaining physical infraestructure and access to advanced cloud tools\\n    Cons: Training or hiring be needed to fill cloud-specific skill gaps\\n3.- SCALABILITY\\n    Pros: Easily scales resources up or down based on demand and faster deployment of new services or features\\n    Cons: Potential over-realiance on the cloud provider, leading ro lock-in\\n'"
      ]
     },
     "execution_count": 5,
     "metadata": {},
     "output_type": "execute_result"
    }
   ],
   "source": [
    "# your solution\n",
    "\"\"\" \n",
    "1.- COST\n",
    "    Pros: reduced operational and maintenance costs and no need for large upfront hardware investments\n",
    "    Cons: Initial migration and re-architecting expenses and ongoing subscription fees and potential for unexpected cost spikes\n",
    "2.- HUMAN RESOURCES\n",
    "    Pros: Less IT burden on maintaining physical infraestructure and access to advanced cloud tools\n",
    "    Cons: Training or hiring be needed to fill cloud-specific skill gaps\n",
    "3.- SCALABILITY\n",
    "    Pros: Easily scales resources up or down based on demand and faster deployment of new services or features\n",
    "    Cons: Potential over-realiance on the cloud provider, leading ro lock-in\n",
    "\"\"\""
   ]
  },
  {
   "cell_type": "markdown",
   "id": "6e33f2e8",
   "metadata": {},
   "source": [
    "(OPTIONAL) This may require an engineering/software background. You have the same hypothetical machine learning architecture, but one on the legacy system and one on the cloud. Moving away from the business logic, what is the benefit on the engineering stack if we use the cloud? What can be problematic if we use the cloud?"
   ]
  },
  {
   "cell_type": "code",
   "execution_count": 6,
   "id": "edbbc3aa",
   "metadata": {},
   "outputs": [],
   "source": [
    "# your solution, attach a screenshot of a hypothetical architecture at a high level"
   ]
  }
 ],
 "metadata": {
  "kernelspec": {
   "display_name": "Python 3 (ipykernel)",
   "language": "python",
   "name": "python3"
  },
  "language_info": {
   "codemirror_mode": {
    "name": "ipython",
    "version": 3
   },
   "file_extension": ".py",
   "mimetype": "text/x-python",
   "name": "python",
   "nbconvert_exporter": "python",
   "pygments_lexer": "ipython3",
   "version": "3.12.4"
  }
 },
 "nbformat": 4,
 "nbformat_minor": 5
}
